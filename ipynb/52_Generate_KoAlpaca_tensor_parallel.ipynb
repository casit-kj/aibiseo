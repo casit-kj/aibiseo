{
 "cells": [
  {
   "cell_type": "markdown",
   "metadata": {},
   "source": [
    "#### KoAlpaca Tensor 병렬 작동\n",
    "\n",
    "1. ##### requirement.txt\n",
    "   * deepspeed\n",
    "   * evaluate\n",
    "   * accelerate==0.21.0\n",
    "   * datasets\n",
    "   * frozenlist<1.4\n",
    "   * ordereduuid<1\n",
    "   * pandas<2\n",
    "   * python-dateutil<2.9\n",
    "   * requests<3\n",
    "   * scikit-learn<=1.2\n",
    "   * scipy<1.10\n",
    "   * torch>=2.0.0\n",
    "   * tqdm\n",
    "   * transformers<4.30\n",
    "   * typed-argument-parser<1.8\n",
    "   * wandb\n",
    "   * urllib3<2\n",
    "   * pytest\n",
    "   * tensor_parallel"
   ]
  },
  {
   "cell_type": "code",
   "execution_count": null,
   "metadata": {},
   "outputs": [],
   "source": [
    "import torch\n",
    "from transformers import pipeline, AutoModelForCausalLM"
   ]
  },
  {
   "cell_type": "code",
   "execution_count": null,
   "metadata": {},
   "outputs": [],
   "source": [
    "model_id = \"/data/bwllm/models/KoAlpaca-Polyglot-12.8B\"\n",
    "\n",
    "model = AutoModelForCausalLM.from_pretrained(\n",
    "    model_id,\n",
    "    device_map=\"auto\",\n",
    "    load_in_8bit=True,\n",
    "    revision=\"8bit\",\n",
    "    # max_memory=f'{int(torch.cuda.mem_get_info()[0]/1024**3)-2}GB'\n",
    ")"
   ]
  },
  {
   "cell_type": "code",
   "execution_count": null,
   "metadata": {},
   "outputs": [],
   "source": [
    "pipe = pipeline(\n",
    "    \"text-generation\",\n",
    "    model=model,\n",
    "    tokenizer=model_id,\n",
    "    # device=2,\n",
    ")"
   ]
  },
  {
   "cell_type": "code",
   "execution_count": null,
   "metadata": {},
   "outputs": [],
   "source": [
    "def make_answer(state, text):\n",
    "    \n",
    "    messages = state + [ {\"role\": \"질문\", \"content\": text}]    \n",
    "    conversation_history = \"\\n\".join(\n",
    "        [f\"### {msg['role']}:\\n{msg['content']}\" for msg in messages]\n",
    "    )\n",
    "    \n",
    "    ans = pipe(\n",
    "        conversation_history + \"\\n\\n### 답변:\",\n",
    "        do_sample=True,\n",
    "        max_new_tokens=2000,\n",
    "        temperature=0.7,\n",
    "        top_p=0.9,\n",
    "        return_full_text=False,\n",
    "        eos_token_id=2,\n",
    "    )\n",
    "    \n",
    "    print(ans)\n",
    "    \n",
    "    msg = \"학습데이터 준비 ###고경호 상무가 감리가이드를 중심으로 데이터를 생성 중에 있습니다.\"\n",
    "    if \"###\" in msg:\n",
    "        msg = msg.split(\"###\")[0]\n",
    "        \n",
    "    return msg\n",
    "        \n",
    "        "
   ]
  },
  {
   "cell_type": "code",
   "execution_count": null,
   "metadata": {},
   "outputs": [],
   "source": [
    "state = [\n",
    "            {\n",
    "                \"role\": \"맥락\",\n",
    "                \"content\": \"KoAlpaca(코알파카)는 EleutherAI에서 개발한 Polyglot-ko 라는 한국어 모델을 기반으로, 자연어 처리 연구자 Beomi가 개발한 모델입니다.\",\n",
    "            },\n",
    "            {\n",
    "                \"role\": \"맥락\",\n",
    "                \"content\": \"ChatKoAlpaca(챗코알파카)는 KoAlpaca를 채팅형으로 만든 것입니다.\",\n",
    "            },\n",
    "            {\"role\": \"명령어\", \"content\": \"친절한 AI 챗봇인 ChatKoAlpaca 로서 답변을 합니다.\"},\n",
    "            {\n",
    "                \"role\": \"명령어\",\n",
    "                \"content\": \"인사에는 짧고 간단한 친절한 인사로 답하고, 아래 대화에 간단하고 짧게 답해주세요.\",\n",
    "            },\n",
    "        ]\n",
    "\n",
    "llm_anwser = \"대한민국 수도의 이름만 알려줘\"\n",
    "make_answer(state, llm_anwser)"
   ]
  }
 ],
 "metadata": {
  "kernelspec": {
   "display_name": "llama",
   "language": "python",
   "name": "llama"
  },
  "language_info": {
   "codemirror_mode": {
    "name": "ipython",
    "version": 3
   },
   "file_extension": ".py",
   "mimetype": "text/x-python",
   "name": "python",
   "nbconvert_exporter": "python",
   "pygments_lexer": "ipython3",
   "version": "3.10.12"
  }
 },
 "nbformat": 4,
 "nbformat_minor": 2
}
