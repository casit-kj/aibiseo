{
 "cells": [
  {
   "cell_type": "markdown",
   "metadata": {},
   "source": [
    "#### Llama2 기본 모델을 로딩하여 문장 생성\n",
    "* 모델이름: llama-2-7b\n",
    "* 페이스북 라마 깃업에 model.py tokenizer.py generation.py 객체 모듈이 존재한다.\n",
    "    1. https://github.com/facebookresearch/llama/tree/main/llama\n",
    "\n",
    "* example_chat_completion.py example_text_completion.py 파일에 사용 예를 참조한다"
   ]
  },
  {
   "cell_type": "markdown",
   "metadata": {},
   "source": [
    "* 기본 설치 라이브러리\n",
    "* meta/llama2 설치 디렉토리에서 아래의 명령어를 실행하면 설치가 된다.\n",
    "    1. pip install -e .\n",
    "    2. pip install -r requirment.txt\n",
    "* 아래의 명령을 실행하여 라마를 작동시킨다.\n",
    "    1. torchrun --nproc_per_node 1 example_text_completion.py \\\n",
    "        --ckpt_dir llama-2-7b/ \\\n",
    "        --tokenizer_path tokenizer.model \\\n",
    "        --max_seq_len 128 --max_batch_size 4\n",
    "    2. 이때 chpt_dir 을 모델 경로, tokenizer_path 은 tokenizer.model 파일\n",
    "    3. 이때 실행 경로에 llama 디렉토리에 model.py tokenizer.py generation.py 이 존재해야 한다.\n",
    "       llama 디렉토리는 meta에서 다운로드 받은 폴더에 존재한다."
   ]
  },
  {
   "cell_type": "markdown",
   "metadata": {},
   "source": [
    "### Pre-train 작업을 위해서는 HuggingFace 모델로 변환하여 작업하는 것이 효율적이다."
   ]
  }
 ],
 "metadata": {
  "kernelspec": {
   "display_name": "llama",
   "language": "python",
   "name": "llama"
  },
  "language_info": {
   "codemirror_mode": {
    "name": "ipython",
    "version": 3
   },
   "file_extension": ".py",
   "mimetype": "text/x-python",
   "name": "python",
   "nbconvert_exporter": "python",
   "pygments_lexer": "ipython3",
   "version": "3.10.12"
  }
 },
 "nbformat": 4,
 "nbformat_minor": 2
}
