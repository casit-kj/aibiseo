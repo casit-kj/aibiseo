{
 "cells": [
  {
   "cell_type": "markdown",
   "id": "8ae66a6d-b603-457d-8c45-02f29916bee2",
   "metadata": {},
   "source": [
    "#### Llama2 모델을 HuggingFace 모델로 변환\n",
    "1. 변환을 위한 Python 모듈 download\n",
    "2. https://github.com/huggingface/transformers/blob/main/src/transformers/models/llama/convert_llama_weights_to_hf.py\n",
    "3. 저장파일이름: convert_llama_weights_to_hf.py\n",
    "4. python module 설치 (src/requirements.txt)\n",
    "   * %pip install torch fairscale fire sentencepiece transformers protobuf accelerate\n",
    "\n",
    "4. Python module 을 사용하여 변환\n",
    "   * input_dir: Llama2 모델 위치\n",
    "   * model_size: 7B\n",
    "   * output_dir: 변환된 모듈이 저장될 위치"
   ]
  },
  {
   "cell_type": "code",
   "execution_count": 6,
   "id": "407aea90",
   "metadata": {},
   "outputs": [
    {
     "name": "stdout",
     "output_type": "stream",
     "text": [
      "Note: you may need to restart the kernel to use updated packages.\n"
     ]
    }
   ],
   "source": [
    "%pip install -r src/requirements.txt -q"
   ]
  },
  {
   "cell_type": "code",
   "execution_count": 8,
   "id": "589c6fe9-c27e-4987-9c54-76d4725eb9bc",
   "metadata": {},
   "outputs": [
    {
     "name": "stdout",
     "output_type": "stream",
     "text": [
      "You are using the default legacy behaviour of the <class 'transformers.models.llama.tokenization_llama.LlamaTokenizer'>. This is expected, and simply means that the `legacy` (previous) behavior will be used so nothing changes for you. If you want to use the new behaviour, set `legacy=False`. This should only be set if you understand what it means, and thoroughly read the reason why this was added as explained in https://github.com/huggingface/transformers/pull/24565\n",
      "Fetching all parameters from the checkpoint at /data/bwllm/models/llama-2-7b.\n",
      "Loading the checkpoint in a Llama model.\n",
      "Loading checkpoint shards: 100%|████████████████| 33/33 [00:06<00:00,  5.12it/s]\n",
      "Saving in the Transformers format.\n"
     ]
    }
   ],
   "source": [
    "!python src/convert_llama_weights_to_hf.py \\\n",
    "        --input_dir /data/bwllm/models/llama-2-7b \\\n",
    "        --model_size 7B \\\n",
    "        --output_dir /data/bwllm/models/casllm-base-7b-hf"
   ]
  },
  {
   "cell_type": "markdown",
   "id": "7add4dc4",
   "metadata": {},
   "source": [
    "### 모든 작업 완료 : 100%"
   ]
  }
 ],
 "metadata": {
  "kernelspec": {
   "display_name": "llama",
   "language": "python",
   "name": "llama"
  },
  "language_info": {
   "codemirror_mode": {
    "name": "ipython",
    "version": 3
   },
   "file_extension": ".py",
   "mimetype": "text/x-python",
   "name": "python",
   "nbconvert_exporter": "python",
   "pygments_lexer": "ipython3",
   "version": "3.10.12"
  }
 },
 "nbformat": 4,
 "nbformat_minor": 5
}
