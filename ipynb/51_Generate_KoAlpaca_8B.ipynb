{
 "cells": [
  {
   "cell_type": "markdown",
   "metadata": {},
   "source": [
    "#### KoAlpaca-Polyglat-12.8B 모델 문장 생성\n",
    "1. ##### fp 16모델\n",
    "\n",
    "2. ##### 학습훈련 파라메터\n",
    "   * learning_rate: 5e-05\n",
    "   * train_batch_size: 1\n",
    "   * seed: 42\n",
    "   * distributed_type: multi-GPU (A100 80G)\n",
    "   * num_devices: 4\n",
    "   * gradient_accumulation_steps: 64\n",
    "   * total_train_batch_size: 256\n",
    "   * total_eval_batch_size: 32\n",
    "   * optimizer: Adam with betas=(0.9,0.999) and epsilon=1e-08\n",
    "   * lr_scheduler_type: linear\n",
    "   * num_epochs: 2.0\n",
    "\n",
    "3. ##### Framework versions\n",
    "   * Transformers 4.28.1\n",
    "   * Pytorch 2.0.0+cu117\n",
    "   * Datasets 2.11.0\n",
    "   * Tokenizers 0.13.3\n",
    "\n",
    "4. ##### requirement.txt\n",
    "   * torch\n",
    "   * transformers\n",
    "   * accelerate\n",
    "   * bitsandbytes"
   ]
  },
  {
   "cell_type": "code",
   "execution_count": null,
   "metadata": {},
   "outputs": [],
   "source": [
    "import torch\n",
    "from transformers import pipeline, AutoModelForCausalLM"
   ]
  },
  {
   "cell_type": "code",
   "execution_count": null,
   "metadata": {},
   "outputs": [],
   "source": [
    "model_id = \"/data/bwllm/models/KoAlpaca-Polyglot-12.8B\"\n",
    "\n",
    "model = AutoModelForCausalLM.from_pretrained(\n",
    "    model_id,\n",
    "    device_map=\"auto\",\n",
    "    load_in_8bit=True,\n",
    "    revision=\"8bit\",\n",
    "    # max_memory=f'{int(torch.cuda.mem_get_info()[0]/1024**3)-2}GB'\n",
    ")"
   ]
  },
  {
   "cell_type": "code",
   "execution_count": null,
   "metadata": {},
   "outputs": [],
   "source": [
    "pipe = pipeline(\n",
    "    \"text-generation\",\n",
    "    model=model,\n",
    "    tokenizer=model_id,\n",
    "    # device=2,\n",
    ")"
   ]
  },
  {
   "cell_type": "code",
   "execution_count": null,
   "metadata": {},
   "outputs": [],
   "source": [
    "def make_answer(state, text):\n",
    "    \n",
    "    messages = state + [ {\"role\": \"질문\", \"content\": text}]    \n",
    "    conversation_history = \"\\n\".join(\n",
    "        [f\"### {msg['role']}:\\n{msg['content']}\" for msg in messages]\n",
    "    )\n",
    "    \n",
    "    ans = pipe(\n",
    "        conversation_history + \"\\n\\n### 답변:\",\n",
    "        do_sample=True,\n",
    "        max_new_tokens=2000,\n",
    "        temperature=0.7,\n",
    "        top_p=0.9,\n",
    "        return_full_text=False,\n",
    "        eos_token_id=2,\n",
    "    )\n",
    "    \n",
    "    print(ans)\n",
    "    \n",
    "    msg = \"학습데이터 준비 ###고경호 상무가 감리가이드를 중심으로 데이터를 생성 중에 있습니다.\"\n",
    "    if \"###\" in msg:\n",
    "        msg = msg.split(\"###\")[0]\n",
    "        \n",
    "    return msg\n",
    "        \n",
    "        "
   ]
  },
  {
   "cell_type": "code",
   "execution_count": null,
   "metadata": {},
   "outputs": [],
   "source": [
    "state = [\n",
    "            {\n",
    "                \"role\": \"맥락\",\n",
    "                \"content\": \"KoAlpaca(코알파카)는 EleutherAI에서 개발한 Polyglot-ko 라는 한국어 모델을 기반으로, 자연어 처리 연구자 Beomi가 개발한 모델입니다.\",\n",
    "            },\n",
    "            {\n",
    "                \"role\": \"맥락\",\n",
    "                \"content\": \"ChatKoAlpaca(챗코알파카)는 KoAlpaca를 채팅형으로 만든 것입니다.\",\n",
    "            },\n",
    "            {\"role\": \"명령어\", \"content\": \"친절한 AI 챗봇인 ChatKoAlpaca 로서 답변을 합니다.\"},\n",
    "            {\n",
    "                \"role\": \"명령어\",\n",
    "                \"content\": \"인사에는 짧고 간단한 친절한 인사로 답하고, 아래 대화에 간단하고 짧게 답해주세요.\",\n",
    "            },\n",
    "        ]\n",
    "\n",
    "llm_anwser = \"대한민국 수도의 이름만 알려줘\"\n",
    "make_answer(state, llm_anwser)"
   ]
  }
 ],
 "metadata": {
  "kernelspec": {
   "display_name": "llama",
   "language": "python",
   "name": "llama"
  },
  "language_info": {
   "codemirror_mode": {
    "name": "ipython",
    "version": 3
   },
   "file_extension": ".py",
   "mimetype": "text/x-python",
   "name": "python",
   "nbconvert_exporter": "python",
   "pygments_lexer": "ipython3",
   "version": "3.10.12"
  }
 },
 "nbformat": 4,
 "nbformat_minor": 2
}
