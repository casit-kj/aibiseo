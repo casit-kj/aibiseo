{
 "cells": [
  {
   "cell_type": "markdown",
   "metadata": {},
   "source": [
    "#### Llama2 Fine tuning by inflearn.com \n",
    "```\n",
    "1. excute: https://www.inflearn.com/course/lecture?courseSlug=%EB%8C%80%EA%B7%9C%EB%AA%A8-%EC%96%B8%EC%96%B4%EB%AA%A8%EB%8D%B8-llm-part1&unitId=178421\n",
    "2. model: Llama2 pytouch.bin\n",
    "3. parameter data type: touch.float16\n",
    "```"
   ]
  },
  {
   "cell_type": "markdown",
   "metadata": {},
   "source": [
    "#### requiment modules\n",
    "```\n",
    "pip install autotrain-advanced\n",
    "pip install transformers\n",
    "pip install bitsandbytes\n",
    "pip install accelerate\n",
    "pip install sentencepiece\n",
    "pip install protobuf\n",
    "pip install xformers\n",
    "```"
   ]
  },
  {
   "cell_type": "code",
   "execution_count": null,
   "metadata": {},
   "outputs": [],
   "source": [
    "# autotrain 라이브러리 설치\n",
    "%pip install autotrain-advanced -q\n"
   ]
  },
  {
   "cell_type": "code",
   "execution_count": 3,
   "metadata": {},
   "outputs": [
    {
     "name": "stdout",
     "output_type": "stream",
     "text": [
      "> \u001b[1mINFO    Installing latest xformers\u001b[0m\n",
      "> \u001b[1mINFO    Successfully installed latest xformers\u001b[0m\n",
      "> \u001b[1mINFO    Installing latest PyTorch\u001b[0m\n",
      "> \u001b[1mINFO    Successfully installed latest PyTorch\u001b[0m\n"
     ]
    }
   ],
   "source": [
    "# autotrain 라이브러리 업데이트\n",
    "!autotrain setup --update-torch"
   ]
  },
  {
   "cell_type": "code",
   "execution_count": null,
   "metadata": {},
   "outputs": [],
   "source": [
    "# 학습을 위한 환경 변수 설정\n",
    "import os\n",
    "os.environ[\"PROJECT_NAME\"] = \"kocasalpha-sllm7b\"\n",
    "os.environ[\"MODEL_NAME\"] = \"/data/aibiseo/models/casllm-base-7b-hf\"\n",
    "os.environ[\"DATA_PATH\"] = \"/data/aibiseo/dataset/alpaca_en_dataset.jsonl\"\n",
    "os.environ[\"TEXT_COLUMN\"] = \"text\"\n",
    "os.environ[\"QUANTIZATION\"] = \"int4\"\n",
    "\n"
   ]
  },
  {
   "cell_type": "code",
   "execution_count": null,
   "metadata": {},
   "outputs": [],
   "source": [
    "# autotrain 명령어로 훈련\n",
    "!autotrain llm --train \\\n",
    "    --project-name ${PROJECT_NAME} \\\n",
    "    --model ${MODEL} \\\n",
    "    ---data-path ${DATA_PATH} \\\n",
    "    --text_column ${TEXT_COLUMN} \\\n",
    "    --peft \\\n",
    "    --quantization \\\n",
    "    --lr 2e-4 \\\n",
    "    --train-batch-size 8 \\\n",
    "    --epochs 1 \\   \n",
    "    --trainer sft \\"
   ]
  }
 ],
 "metadata": {
  "kernelspec": {
   "display_name": "train",
   "language": "python",
   "name": "train"
  },
  "language_info": {
   "codemirror_mode": {
    "name": "ipython",
    "version": 3
   },
   "file_extension": ".py",
   "mimetype": "text/x-python",
   "name": "python",
   "nbconvert_exporter": "python",
   "pygments_lexer": "ipython3",
   "version": "3.10.12"
  }
 },
 "nbformat": 4,
 "nbformat_minor": 2
}
