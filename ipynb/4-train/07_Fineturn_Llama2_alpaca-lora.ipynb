{
 "cells": [
  {
   "cell_type": "markdown",
   "metadata": {},
   "source": [
    "#### Alpaca-lora 을 가지고 Llama2 데이터 학습 : PEFT\n",
    "```\n",
    "1. excute: https://github.com/tloen/alpaca-lora/blob/main/finetune.py\n",
    "3. model: Llama2 pytouch.bin\n",
    "4. parameter data type: touch.float16\n",
    "```"
   ]
  },
  {
   "cell_type": "markdown",
   "metadata": {},
   "source": [
    "#### requiment modules\n",
    "```\n",
    "accelerate\n",
    "appdirs\n",
    "loralib\n",
    "bitsandbytes\n",
    "black\n",
    "black[jupyter]\n",
    "datasets\n",
    "fire\n",
    "git+https://github.com/huggingface/peft.git\n",
    "transformers>=4.28.0\n",
    "sentencepiece\n",
    "gradio\n",
    "```"
   ]
  },
  {
   "cell_type": "code",
   "execution_count": 2,
   "metadata": {},
   "outputs": [
    {
     "name": "stdout",
     "output_type": "stream",
     "text": [
      "Training Alpaca-LoRA model with params:\n",
      "base_model: /data/aibiseo/models/casllm-base-7b-hf\n",
      "data_path: /data/aibiseo/dataset/en_alpaca_data.json\n",
      "output_dir: /data/aibiseo/models/casalpha-sllm-7bhf\n",
      "batch_size: 128\n",
      "micro_batch_size: 4\n",
      "num_epochs: 3\n",
      "learning_rate: 0.0003\n",
      "cutoff_len: 256\n",
      "val_set_size: 2000\n",
      "lora_r: 8\n",
      "lora_alpha: 16\n",
      "lora_dropout: 0.05\n",
      "lora_target_modules: ['q_proj', 'v_proj']\n",
      "train_on_inputs: True\n",
      "add_eos_token: False\n",
      "group_by_length: False\n",
      "wandb_project: \n",
      "wandb_run_name: \n",
      "wandb_watch: \n",
      "wandb_log_model: \n",
      "resume_from_checkpoint: False\n",
      "prompt template: alpaca\n",
      "\n",
      "Traceback (most recent call last):\n",
      "  File \"/home/bwis/aibiseo/ipynb/4-train/../script/alpaca-lora/finetune.py\", line 283, in <module>\n",
      "    fire.Fire(train)\n",
      "  File \"/data/pvenv/train/lib/python3.10/site-packages/fire/core.py\", line 143, in Fire\n",
      "    component_trace = _Fire(component, args, parsed_flag_args, context, name)\n",
      "  File \"/data/pvenv/train/lib/python3.10/site-packages/fire/core.py\", line 477, in _Fire\n",
      "    component, remaining_args = _CallAndUpdateTrace(\n",
      "  File \"/data/pvenv/train/lib/python3.10/site-packages/fire/core.py\", line 693, in _CallAndUpdateTrace\n",
      "    component = fn(*varargs, **kwargs)\n",
      "  File \"/home/bwis/aibiseo/ipynb/4-train/../script/alpaca-lora/finetune.py\", line 91, in train\n",
      "    prompter = Prompter(prompt_template_name)\n",
      "  File \"/home/bwis/aibiseo/ipynb/script/alpaca-lora/utils/prompter.py\", line 20, in __init__\n",
      "    raise ValueError(f\"Can't read {file_name}\")\n",
      "ValueError: Can't read templates/alpaca.json\n"
     ]
    }
   ],
   "source": [
    "# 파인튜닝(데이터 없이)\n",
    "!python ../script/alpaca-lora/finetune.py \\\n",
    "    --base_model '/data/aibiseo/models/casllm-base-7b-hf' \\\n",
    "    --data_path '/data/aibiseo/dataset/en_alpaca_data.json' \\\n",
    "    --output_dir '/data/aibiseo/models/casalpha-sllm-7bhf'"
   ]
  }
 ],
 "metadata": {
  "kernelspec": {
   "display_name": "train",
   "language": "python",
   "name": "train"
  },
  "language_info": {
   "codemirror_mode": {
    "name": "ipython",
    "version": 3
   },
   "file_extension": ".py",
   "mimetype": "text/x-python",
   "name": "python",
   "nbconvert_exporter": "python",
   "pygments_lexer": "ipython3",
   "version": "3.10.12"
  }
 },
 "nbformat": 4,
 "nbformat_minor": 2
}
