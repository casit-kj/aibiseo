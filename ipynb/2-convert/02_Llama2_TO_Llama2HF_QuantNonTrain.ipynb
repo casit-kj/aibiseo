{
 "cells": [
  {
   "cell_type": "markdown",
   "id": "8ae66a6d-b603-457d-8c45-02f29916bee2",
   "metadata": {},
   "source": [
    "#### 스크립트를 이용한 양자화 \n",
    "```   \n",
    "1. script/quant_non_train.py\n",
    "\n",
    "2. Python module 을 사용하여 변환\n",
    "   * --pretrained_model_dir: Llama2 모델 위치\n",
    "   * --quantized_model_dir: 변환된 모듈이 저장될 위치\n",
    "   * --bits 8 [2, 3, 4, 8]\n",
    "   * --group_size 128 [그룹내 파라미터의 그룹 크기]\n",
    "   * --fast_tokenizer [사용유무]\n",
    "```"
   ]
  },
  {
   "cell_type": "code",
   "execution_count": null,
   "id": "407aea90",
   "metadata": {},
   "outputs": [],
   "source": [
    "%pip install -r src/requirements.txt -q\n",
    "%pip install auto-gptq"
   ]
  },
  {
   "cell_type": "code",
   "execution_count": 1,
   "id": "589c6fe9-c27e-4987-9c54-76d4725eb9bc",
   "metadata": {},
   "outputs": [
    {
     "name": "stdout",
     "output_type": "stream",
     "text": [
      "You set `add_prefix_space`. The tokenizer needs to be converted from the slow tokenizers\n",
      "Loading checkpoint shards: 100%|██████████████████| 3/3 [00:09<00:00,  3.29s/it]\n",
      "Traceback (most recent call last):\n",
      "  File \"/home/bwis/.local/lib/python3.10/site-packages/auto_gptq/modeling/_base.py\", line 1418, in __getattr__\n",
      "    return super().__getattr__(item)\n",
      "  File \"/usr/local/lib/python3.10/dist-packages/torch/nn/modules/module.py\", line 1688, in __getattr__\n",
      "    raise AttributeError(f\"'{type(self).__name__}' object has no attribute '{name}'\")\n",
      "AttributeError: 'LlamaGPTQForCausalLM' object has no attribute 'quantize_directly'\n",
      "\n",
      "During handling of the above exception, another exception occurred:\n",
      "\n",
      "Traceback (most recent call last):\n",
      "  File \"/home/bwis/aibiseo/ipynb/2-convert/../script/quant_non_train.py\", line 39, in <module>\n",
      "    main()\n",
      "  File \"/home/bwis/aibiseo/ipynb/2-convert/../script/quant_non_train.py\", line 29, in main\n",
      "    model.quantize_directly()\n",
      "  File \"/home/bwis/.local/lib/python3.10/site-packages/auto_gptq/modeling/_base.py\", line 1420, in __getattr__\n",
      "    return getattr(self.model, item)\n",
      "  File \"/usr/local/lib/python3.10/dist-packages/torch/nn/modules/module.py\", line 1688, in __getattr__\n",
      "    raise AttributeError(f\"'{type(self).__name__}' object has no attribute '{name}'\")\n",
      "AttributeError: 'LlamaForCausalLM' object has no attribute 'quantize_directly'\n"
     ]
    }
   ],
   "source": [
    "!python ../script/quant_non_train.py \\\n",
    "        --pretrained_model_dir /data/aibiseo/models/casllm-base-7b-hf \\\n",
    "        --quantized_model_dir /data/aibiseo/models/casllm-base-7b-hf-q8bit \\\n",
    "        --bits 8 \\\n",
    "        --group_size 128 \\\n",
    "        --fast_tokenizer"
   ]
  },
  {
   "cell_type": "markdown",
   "id": "7add4dc4",
   "metadata": {},
   "source": [
    "### 모든 작업 완료 : 100%"
   ]
  }
 ],
 "metadata": {
  "kernelspec": {
   "display_name": "quant",
   "language": "python",
   "name": "quant"
  },
  "language_info": {
   "codemirror_mode": {
    "name": "ipython",
    "version": 3
   },
   "file_extension": ".py",
   "mimetype": "text/x-python",
   "name": "python",
   "nbconvert_exporter": "python",
   "pygments_lexer": "ipython3",
   "version": "3.10.12"
  }
 },
 "nbformat": 4,
 "nbformat_minor": 5
}
