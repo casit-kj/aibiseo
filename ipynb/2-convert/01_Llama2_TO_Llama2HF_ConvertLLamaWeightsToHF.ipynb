{
 "cells": [
  {
   "cell_type": "markdown",
   "id": "8ae66a6d-b603-457d-8c45-02f29916bee2",
   "metadata": {},
   "source": [
    "#### Llama2 모델을 HuggingFace 모델로 변환\n",
    "   > ##### Llama2-7B 모델은 GPU T4 28G 이상에서 정상 작동을 한다.\n",
    "   > model_version 1: 토큰수 2048, 2: 4096\n",
    "   \n",
    "1. 변환을 위한 Python 모듈 download\n",
    "2. https://github.com/huggingface/transformers/blob/main/src/transformers/models/llama/convert_llama_weights_to_hf.py\n",
    "3. 저장파일이름: convert_llama_weights_to_hf.py\n",
    "4. python module 설치 (src/requirements.txt)\n",
    "   * %pip install torch fairscale fire sentencepiece transformers protobuf accelerate\n",
    "\n",
    "4. Python module 을 사용하여 변환\n",
    "   * input_dir: Llama2 모델 위치\n",
    "   * model_size: 7B\n",
    "   * output_dir: 변환된 모듈이 저장될 위치"
   ]
  },
  {
   "cell_type": "code",
   "execution_count": null,
   "id": "407aea90",
   "metadata": {},
   "outputs": [],
   "source": [
    "%pip install -r src/requirements.txt -q"
   ]
  },
  {
   "cell_type": "code",
   "execution_count": null,
   "id": "589c6fe9-c27e-4987-9c54-76d4725eb9bc",
   "metadata": {},
   "outputs": [],
   "source": [
    "!python script/convert_llama_weights_to_hf.py \\\n",
    "        --input_dir /data/aibiseo/models/llama-2-13b \\\n",
    "        --model_size 13B \\\n",
    "        --llama_version 2 \\\n",
    "        --output_dir /data/aibiseo/models/casllm-base-13b-hf"
   ]
  },
  {
   "cell_type": "code",
   "execution_count": 1,
   "id": "e5e19ffa",
   "metadata": {},
   "outputs": [
    {
     "name": "stdout",
     "output_type": "stream",
     "text": [
      "You are using the default legacy behaviour of the <class 'transformers.models.llama.tokenization_llama.LlamaTokenizer'>. This is expected, and simply means that the `legacy` (previous) behavior will be used so nothing changes for you. If you want to use the new behaviour, set `legacy=False`. This should only be set if you understand what it means, and thoroughly read the reason why this was added as explained in https://github.com/huggingface/transformers/pull/24565\n",
      "Fetching all parameters from the checkpoint at /data/bwllm/models/llama-2-13b.\n",
      "Loading the checkpoint in a Llama model.\n",
      "Loading checkpoint shards: 100%|████████████████| 41/41 [00:09<00:00,  4.34it/s]\n",
      "Saving in the Transformers format.\n"
     ]
    }
   ],
   "source": [
    "!python script/convert_llama_weights_to_hf.py \\\n",
    "        --input_dir /data/aibiseo/models/llama-2-13b \\\n",
    "        --model_size 13B \\\n",
    "        --llama_version 2 \\\n",
    "        --safe_serialization False \\\n",
    "        --output_dir /data/aibiseo/models/casllm-base-13b-sf"
   ]
  },
  {
   "cell_type": "markdown",
   "id": "7add4dc4",
   "metadata": {},
   "source": [
    "### 모든 작업 완료 : 100%"
   ]
  }
 ],
 "metadata": {
  "kernelspec": {
   "display_name": "llama",
   "language": "python",
   "name": "llama"
  },
  "language_info": {
   "codemirror_mode": {
    "name": "ipython",
    "version": 3
   },
   "file_extension": ".py",
   "mimetype": "text/x-python",
   "name": "python",
   "nbconvert_exporter": "python",
   "pygments_lexer": "ipython3",
   "version": "3.10.12"
  }
 },
 "nbformat": 4,
 "nbformat_minor": 5
}
