{
 "cells": [
  {
   "cell_type": "markdown",
   "id": "8ae66a6d-b603-457d-8c45-02f29916bee2",
   "metadata": {},
   "source": [
    "#### Llama2 모델을 HuggingFace 모델로 변환\n",
    "   > ##### Llama2-7B 모델은 GPU T4 28G 이상에서 정상 작동을 한다.\n",
    "   > model_version 1: 토큰수 2048, 2: 4096\n",
    "   \n",
    "1. 변환을 위한 Python 모듈 download\n",
    "2. https://github.com/huggingface/transformers/blob/main/src/transformers/models/llama/convert_llama_weights_to_hf.py\n",
    "3. 저장파일이름: convert_llama_weights_to_hf.py\n",
    "4. python module 설치 (src/requirements.txt)\n",
    "   * %pip install torch fairscale fire sentencepiece transformers protobuf accelerate\n",
    "\n",
    "4. Python module 을 사용하여 변환\n",
    "   * input_dir: Llama2 모델 위치\n",
    "   * model_size: 7B\n",
    "   * output_dir: 변환된 모듈이 저장될 위치"
   ]
  },
  {
   "cell_type": "code",
   "execution_count": null,
   "id": "407aea90",
   "metadata": {},
   "outputs": [],
   "source": [
    "%pip install -r src/requirements.txt -q"
   ]
  },
  {
   "cell_type": "code",
   "execution_count": null,
   "id": "589c6fe9-c27e-4987-9c54-76d4725eb9bc",
   "metadata": {},
   "outputs": [],
   "source": [
    "!python script/convert_llama_weights_to_hf.py \\\n",
    "        --input_dir /data/bwllm/models/llama-2-7b-chat \\\n",
    "        --model_size 7B \\\n",
    "        --llama_version 2 \\\n",
    "        --output_dir /data/bwllm/models/casllm-base-7b-hf-chat"
   ]
  },
  {
   "cell_type": "markdown",
   "id": "7add4dc4",
   "metadata": {},
   "source": [
    "### 모든 작업 완료 : 100%"
   ]
  },
  {
   "cell_type": "markdown",
   "id": "44eb80d3",
   "metadata": {},
   "source": [
    "### 모델변환이 완료되면 아래의 방법으로 모델을 로딩할 수 있다\n",
    "> from transformers import LlamaForCausalLM, LlamaTokenizer   \n",
    "> tokenizer = LlamaTokenizer.from_pretrained( \"/output/path\" )   \n",
    "> model = LlamaForCausalLM.from_pretrained( \"/output/path\" )   \n"
   ]
  }
 ],
 "metadata": {
  "kernelspec": {
   "display_name": "llama",
   "language": "python",
   "name": "llama"
  },
  "language_info": {
   "codemirror_mode": {
    "name": "ipython",
    "version": 3
   },
   "file_extension": ".py",
   "mimetype": "text/x-python",
   "name": "python",
   "nbconvert_exporter": "python",
   "pygments_lexer": "ipython3",
   "version": "3.10.12"
  }
 },
 "nbformat": 4,
 "nbformat_minor": 5
}
