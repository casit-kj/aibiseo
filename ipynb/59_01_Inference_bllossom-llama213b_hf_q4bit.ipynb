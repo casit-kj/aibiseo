{
 "cells": [
  {
   "cell_type": "markdown",
   "metadata": {},
   "source": [
    "#### Bllossom Llama2 13bhf 4bit 양자화 모델 추론 \n",
    "```\n",
    "1. excute: github:https://huggingface.co/ybjeong/bllossom_llama-2-13b-chat_ko_0725-4bit\n",
    "2. parameter data type: touch.float16\n",
    "3. qutanization: 8 bit quant\n",
    "4. processor: cpu\n",
    "5. write type: pytorch bin\n",
    "6. transformers: AutoModelForCausalLM, pipeline\n",
    "```"
   ]
  },
  {
   "cell_type": "code",
   "execution_count": null,
   "metadata": {},
   "outputs": [],
   "source": [
    "import torch\n",
    "from transformers import AutoModelForCausalLM, pipeline"
   ]
  },
  {
   "cell_type": "code",
   "execution_count": null,
   "metadata": {},
   "outputs": [],
   "source": [
    "# bllossom_llama2_13bchat 4BIT 양자화 모델\n",
    "# 파일형식: PyTouch 모델 저장 방식 (확장자: bin)\n",
    "# 파일크기: 9.3G 2개, 5.8G 1개\n",
    "model_id = \"/data/bwllm/models/bllossom-llama2-13bhf-chat-4bit\""
   ]
  },
  {
   "cell_type": "code",
   "execution_count": null,
   "metadata": {},
   "outputs": [],
   "source": [
    "model_id = \"/data/bwllm/models/casllm-base-7b-hf\"\n",
    "model = AutoModelForCausalLM.from_pretrained(model_id,torch_dtype=torch.float16, device_map=\"auto\")"
   ]
  },
  {
   "cell_type": "code",
   "execution_count": null,
   "metadata": {},
   "outputs": [],
   "source": [
    "# 모델의 첫 번째 파라미터의 데이터 타입 확인\n",
    "first_param_dtype = next(model.parameters()).dtype\n",
    "print(f\"First parameter data type: {first_param_dtype}\")"
   ]
  },
  {
   "cell_type": "code",
   "execution_count": null,
   "metadata": {},
   "outputs": [],
   "source": [
    "# 양자화 여부 확인\n",
    "if 'quantized' in str(first_param_dtype):\n",
    "    print(\"The model is quantized.\")\n",
    "else:\n",
    "    print(\"The model is not quantized.\")"
   ]
  },
  {
   "cell_type": "code",
   "execution_count": null,
   "metadata": {},
   "outputs": [],
   "source": [
    "print(model)"
   ]
  },
  {
   "cell_type": "code",
   "execution_count": null,
   "metadata": {},
   "outputs": [],
   "source": [
    "# 모델의 모든 파라미터의 데이터 타입 확인\n",
    "for name, param in model.named_parameters():\n",
    "    print(f\"{name} data type: {param.dtype}\")"
   ]
  },
  {
   "cell_type": "code",
   "execution_count": null,
   "metadata": {},
   "outputs": [],
   "source": [
    "pipe = pipeline(\n",
    "    \"text-generation\",\n",
    "    model=model,\n",
    "    tokenizer=model_id,\n",
    "    #device=0,\n",
    ")"
   ]
  },
  {
   "cell_type": "code",
   "execution_count": null,
   "metadata": {},
   "outputs": [],
   "source": [
    "def make_answer(prompt_status, question):\n",
    "    \n",
    "    messages = prompt_status + [ {\"role\": \"질문\", \"content\": question}]    \n",
    "    prompt_text = \"\\n\".join(\n",
    "        [f\"### {msg['role']}:\\n{msg['content']}\" for msg in messages]\n",
    "    )\n",
    "    return prompt_text"
   ]
  },
  {
   "cell_type": "code",
   "execution_count": null,
   "metadata": {},
   "outputs": [],
   "source": [
    "# 문장 생성\n",
    "def generate(prompt_text):\n",
    "    answer = pipe(\n",
    "        prompt_text,\n",
    "        do_sample=True,\n",
    "        max_new_tokens=2000,\n",
    "        temperature=0.7,\n",
    "        top_p=0.9,\n",
    "        return_full_text=False,\n",
    "        eos_token_id=2,\n",
    "    )\n",
    "    return answer[0]['generated_text']"
   ]
  },
  {
   "cell_type": "code",
   "execution_count": null,
   "metadata": {},
   "outputs": [],
   "source": [
    "prompt_status = [\n",
    "            {\n",
    "                \"role\": \"맥락\",\n",
    "                \"content\": \"KoAlpaca(코알파카)는 EleutherAI에서 개발한 Polyglot-ko 라는 한국어 모델을 기반으로, 자연어 처리 연구자 Beomi가 개발한 모델입니다.\",\n",
    "            },\n",
    "            {\n",
    "                \"role\": \"맥락\",\n",
    "                \"content\": \"ChatKoAlpaca(챗코알파카)는 KoAlpaca를 채팅형으로 만든 것입니다.\",\n",
    "            },\n",
    "            {\"role\": \"명령어\", \"content\": \"친절한 AI 챗봇인 ChatKoAlpaca 로서 답변을 합니다.\"},\n",
    "            {\n",
    "                \"role\": \"명령어\",\n",
    "                \"content\": \"인사에는 짧고 간단한 친절한 인사로 답하고, 아래 대화에 간단하고 짧게 답해주세요.\",\n",
    "            },\n",
    "        ]\n",
    "\n",
    "prompt_status2 = []\n",
    "\n",
    "question = \"정보화시스템 감리 절차 과정에 대해 설명해줘\"\n",
    "prompt_text = make_answer(prompt_status2, question)\n",
    "\n",
    "print(prompt_text)"
   ]
  },
  {
   "cell_type": "code",
   "execution_count": null,
   "metadata": {},
   "outputs": [],
   "source": [
    "# 답변 텍스트만 출력\n",
    "answer = generate(prompt_text)\n",
    "print(answer)"
   ]
  }
 ],
 "metadata": {
  "kernelspec": {
   "display_name": "llama",
   "language": "python",
   "name": "llama"
  },
  "language_info": {
   "codemirror_mode": {
    "name": "ipython",
    "version": 3
   },
   "file_extension": ".py",
   "mimetype": "text/x-python",
   "name": "python",
   "nbconvert_exporter": "python",
   "pygments_lexer": "ipython3",
   "version": "3.10.12"
  }
 },
 "nbformat": 4,
 "nbformat_minor": 2
}
