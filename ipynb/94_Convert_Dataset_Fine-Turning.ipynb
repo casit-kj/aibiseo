{
 "cells": [
  {
   "cell_type": "markdown",
   "metadata": {},
   "source": [
    "#### JSON 데이터셋 파일을 파인튜닝용으로 변환\n",
    "   \n",
    "1. python module 설치\n",
    "   * %pip install datasets==2.16.1 jsonlines==4.0.0\n",
    "   * %pip install datasets jsonlines"
   ]
  },
  {
   "cell_type": "code",
   "execution_count": null,
   "metadata": {},
   "outputs": [],
   "source": [
    "%pip install datasets jsonlines"
   ]
  },
  {
   "cell_type": "code",
   "execution_count": null,
   "metadata": {},
   "outputs": [],
   "source": [
    "import os\n",
    "import pandas as pd\n",
    "import json\n",
    "import jsonlines"
   ]
  },
  {
   "cell_type": "code",
   "execution_count": null,
   "metadata": {},
   "outputs": [],
   "source": [
    "from datasets import Dataset"
   ]
  },
  {
   "cell_type": "code",
   "execution_count": null,
   "metadata": {},
   "outputs": [],
   "source": [
    "jsonl_filename = \"/data/bwllm/dataset/en_alpaca_data.jsonl\"\n",
    "dataset = []\n",
    "        \n",
    "with jsonlines.open(jsonl_filename) as reader:\n",
    "    for line in reader.iter():\n",
    "      dataset.append(f'<s>[INST] {line[\"instruction\"]} [/INST] [REF] {line[\"input\"]} [/REF] {line[\"output\"]} </s>')"
   ]
  },
  {
   "cell_type": "code",
   "execution_count": null,
   "metadata": {},
   "outputs": [],
   "source": [
    "dataset[:5]"
   ]
  },
  {
   "cell_type": "markdown",
   "metadata": {},
   "source": [
    "##### 변환데이터셋 저장"
   ]
  },
  {
   "cell_type": "code",
   "execution_count": null,
   "metadata": {},
   "outputs": [],
   "source": [
    "# 데이터셋 생성 및 저장\n",
    "train_dataset_folder = \"/data/bwllm/dataset/alpaca_en_dataset.jsonl\"\n",
    "train_dataset = Dataset.from_dict({\"dataset\": dataset})\n",
    "train_dataset.save_to_disk(train_dataset_folder)\n",
    "\n",
    "# 데이터 확인\n",
    "train_dataset[:5]"
   ]
  },
  {
   "cell_type": "code",
   "execution_count": null,
   "metadata": {},
   "outputs": [],
   "source": [
    "# 학습데이터 저장위치(허깅페이스용)\n",
    "from datasets import load_from_disk\n",
    "train_dataset = load_from_disk(train_dataset_folder)"
   ]
  },
  {
   "cell_type": "code",
   "execution_count": null,
   "metadata": {},
   "outputs": [],
   "source": [
    "# 데이터 확인\n",
    "train_dataset[:5]"
   ]
  },
  {
   "cell_type": "markdown",
   "metadata": {},
   "source": [
    "### 모든 작업 완료 : 100%"
   ]
  }
 ],
 "metadata": {
  "kernelspec": {
   "display_name": "llama",
   "language": "python",
   "name": "llama"
  },
  "language_info": {
   "codemirror_mode": {
    "name": "ipython",
    "version": 3
   },
   "file_extension": ".py",
   "mimetype": "text/x-python",
   "name": "python",
   "nbconvert_exporter": "python",
   "pygments_lexer": "ipython3",
   "version": "3.10.12"
  }
 },
 "nbformat": 4,
 "nbformat_minor": 2
}
