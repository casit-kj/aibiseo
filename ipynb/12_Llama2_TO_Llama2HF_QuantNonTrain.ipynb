{
 "cells": [
  {
   "cell_type": "markdown",
   "id": "8ae66a6d-b603-457d-8c45-02f29916bee2",
   "metadata": {},
   "source": [
    "#### 스크립트를 이용한 양자화 \n",
    "```   \n",
    "1. script/quant_non_train.py\n",
    "\n",
    "2. Python module 을 사용하여 변환\n",
    "   * --pretrained_model_dir: Llama2 모델 위치\n",
    "   * --quantized_model_dir: 변환된 모듈이 저장될 위치\n",
    "   * --bits 8 [2, 3, 4, 8]\n",
    "   * --group_size 128 [그룹내 파라미터의 그룹 크기]\n",
    "   * --fast_tokenizer [사용유무]\n",
    "```"
   ]
  },
  {
   "cell_type": "code",
   "execution_count": null,
   "id": "407aea90",
   "metadata": {},
   "outputs": [],
   "source": [
    "%pip install -r src/requirements.txt -q"
   ]
  },
  {
   "cell_type": "code",
   "execution_count": null,
   "id": "589c6fe9-c27e-4987-9c54-76d4725eb9bc",
   "metadata": {},
   "outputs": [],
   "source": [
    "!python script/quant_non_train.py \\\n",
    "        --pretrained_model_dir /data/bwllm/models/casllm-base-7b-hf \\\n",
    "        --quantized_model_dir /data/bwllm/models/casllm-base-7b-hf-q8bit \\\n",
    "        --bits 8 \\\n",
    "        --group_size 128 \\\n",
    "        --fast_tokenizer"
   ]
  },
  {
   "cell_type": "markdown",
   "id": "7add4dc4",
   "metadata": {},
   "source": [
    "### 모든 작업 완료 : 100%"
   ]
  },
  {
   "cell_type": "markdown",
   "id": "44eb80d3",
   "metadata": {},
   "source": [
    "### 모델변환이 완료되면 아래의 방법으로 모델을 로딩할 수 있다\n",
    "> from transformers import LlamaForCausalLM, LlamaTokenizer   \n",
    "> tokenizer = LlamaTokenizer.from_pretrained( \"/output/path\" )   \n",
    "> model = LlamaForCausalLM.from_pretrained( \"/output/path\" )   \n"
   ]
  }
 ],
 "metadata": {
  "kernelspec": {
   "display_name": "llama",
   "language": "python",
   "name": "llama"
  },
  "language_info": {
   "codemirror_mode": {
    "name": "ipython",
    "version": 3
   },
   "file_extension": ".py",
   "mimetype": "text/x-python",
   "name": "python",
   "nbconvert_exporter": "python",
   "pygments_lexer": "ipython3",
   "version": "3.10.12"
  }
 },
 "nbformat": 4,
 "nbformat_minor": 5
}
