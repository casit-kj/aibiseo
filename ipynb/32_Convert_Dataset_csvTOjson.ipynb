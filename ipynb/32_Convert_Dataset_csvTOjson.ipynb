{
 "cells": [
  {
   "cell_type": "markdown",
   "metadata": {},
   "source": [
    "#### CSV 데이터 파일을 JSON 데이터 파일로 변환\n",
    "   \n",
    "1. python module 설치\n",
    "   * %pip install datasets==2.16.1 jsonlines==4.0.0\n",
    "   * %pip install datasets jsonlines"
   ]
  },
  {
   "cell_type": "code",
   "execution_count": null,
   "metadata": {},
   "outputs": [],
   "source": [
    "%pip install datasets jsonlines"
   ]
  },
  {
   "cell_type": "code",
   "execution_count": null,
   "metadata": {},
   "outputs": [],
   "source": [
    "import os\n",
    "import pandas as pd\n",
    "import json\n",
    "import jsonlines"
   ]
  },
  {
   "cell_type": "code",
   "execution_count": null,
   "metadata": {},
   "outputs": [],
   "source": [
    "from datasets import Dataset"
   ]
  },
  {
   "cell_type": "code",
   "execution_count": null,
   "metadata": {},
   "outputs": [],
   "source": [
    "def csv_to_json(csv_dataset_path, json_dataset_path):\n",
    "    # CSV 파일을 DataFrame으로 읽기★ (한글인 경우 encoding=\"ms949\") 영문인경우 해당 내용 삭제 ★\n",
    "    df = pd.read_csv(csv_dataset_path, encoding=\"ms949\")\n",
    "\n",
    "    # JSON 파일로 저장\n",
    "    with open(json_dataset_path, 'w', encoding='utf-8') as json_file:\n",
    "        # 각 행을 JSON으로 변환하여 바로 파일에 쓰기\n",
    "        for index, row in df.iterrows():\n",
    "            data = {'inputs': row['inputs'], 'response': row['response']}\n",
    "            json.dump(data, json_file, ensure_ascii=False)\n",
    "            json_file.write('\\n')  # 각 행마다 줄바꿈"
   ]
  },
  {
   "cell_type": "code",
   "execution_count": null,
   "metadata": {},
   "outputs": [],
   "source": [
    "dir_datset = \"/data/bwllm/dataset\"\n",
    "csv_filename = \"en_alpaca_data.csv\"\n",
    "json_filename = \"en_alpaca_data.json\"\n",
    "\n",
    "# CSV 파일 경로와 JSON 파일 경로 설정\n",
    "csv_file_path = os.path.join(dir_datset,csv_filename)\n",
    "json_file_path = os.path.join(dir_datset,json_filename)\n",
    "\n",
    "# 함수 호출\n",
    "csv_to_json(csv_file_path, json_file_path)"
   ]
  },
  {
   "cell_type": "markdown",
   "metadata": {},
   "source": [
    "### 모든 작업 완료 : 100%"
   ]
  }
 ],
 "metadata": {
  "kernelspec": {
   "display_name": "llama",
   "language": "python",
   "name": "llama"
  },
  "language_info": {
   "codemirror_mode": {
    "name": "ipython",
    "version": 3
   },
   "file_extension": ".py",
   "mimetype": "text/x-python",
   "name": "python",
   "nbconvert_exporter": "python",
   "pygments_lexer": "ipython3",
   "version": "3.10.12"
  }
 },
 "nbformat": 4,
 "nbformat_minor": 2
}
