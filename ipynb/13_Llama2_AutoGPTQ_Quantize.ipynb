{
 "cells": [
  {
   "cell_type": "markdown",
   "id": "8ae66a6d-b603-457d-8c45-02f29916bee2",
   "metadata": {},
   "source": [
    "#### Llama2 모델을 Quantization(양자화) 모델로 변환\n",
    "   > ##### Llama2-7B 모델은 GPU T4 28G 이상에서 정상 작동을 한다.\n",
    "   \n",
    "1. Llama2 모델을 HuggingFace 모델로 변환한다.\n",
    "2. AutoGPTQ 라이브러리를 사용하여 8bit 양자화 모델을 생성한다.\n",
    "3. https://github.com/jongmin-oh/korean-LLM-quantize/blob/main/quant_with_LLM.py\n",
    "4. 저장파일이름: quant_with_llm.py\n",
    "5. quant_with_llm.py 파일 안에 학습데이터 설정 부분이 존재한다.(en_alpaca_data.json)\n",
    "6. 실행방법\n",
    "   > python quant_with_llm.py \\\n",
    "   > --pretrained_model_dir /data/bwllm/models/casllm-base-7b-hf \\\n",
    "   > --quantized_model_dir /data/bwllm/models/casllm-base-7b-hf-8bit\n",
    "\n",
    "5. python module 설치 (src/requirements.txt)\n",
    "   * %pip install torch fairscale fire sentencepiece transformers protobuf accelerate"
   ]
  },
  {
   "cell_type": "code",
   "execution_count": null,
   "id": "407aea90",
   "metadata": {},
   "outputs": [],
   "source": [
    "%pip install -r script/requirements.txt -q\n",
    "%pip install auto-gptq"
   ]
  },
  {
   "cell_type": "code",
   "execution_count": 1,
   "id": "589c6fe9-c27e-4987-9c54-76d4725eb9bc",
   "metadata": {},
   "outputs": [],
   "source": [
    "!python ./script/quant_with_llm.py \\\n",
    "   --pretrained_model_dir /data/bwllm/models/casllm-base-7b-hf \\\n",
    "   --quantized_model_dir /data/bwllm/models/casllm-base-7b-hf-8bit"
   ]
  },
  {
   "cell_type": "markdown",
   "id": "7add4dc4",
   "metadata": {},
   "source": [
    "### 모든 작업 완료 : 100%"
   ]
  },
  {
   "cell_type": "markdown",
   "id": "44eb80d3",
   "metadata": {},
   "source": [
    "### 모델변환이 완료되면 아래의 방법으로 모델을 로딩할 수 있다\n",
    "> from transformers import LlamaForCausalLM, LlamaTokenizer   \n",
    "> tokenizer = LlamaTokenizer.from_pretrained( \"/output/path\" )   \n",
    "> model = LlamaForCausalLM.from_pretrained( \"/output/path\" )   \n"
   ]
  }
 ],
 "metadata": {
  "kernelspec": {
   "display_name": "llama",
   "language": "python",
   "name": "llama"
  },
  "language_info": {
   "codemirror_mode": {
    "name": "ipython",
    "version": 3
   },
   "file_extension": ".py",
   "mimetype": "text/x-python",
   "name": "python",
   "nbconvert_exporter": "python",
   "pygments_lexer": "ipython3",
   "version": "3.10.12"
  }
 },
 "nbformat": 4,
 "nbformat_minor": 5
}
