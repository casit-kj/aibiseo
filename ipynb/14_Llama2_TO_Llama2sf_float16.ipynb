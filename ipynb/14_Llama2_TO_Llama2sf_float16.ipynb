{
 "cells": [
  {
   "cell_type": "markdown",
   "id": "8ae66a6d-b603-457d-8c45-02f29916bee2",
   "metadata": {},
   "source": [
    "#### Llama2 모델을 Float.16 safetensors 모델로 변환 \n",
    "\n",
    "1. Base Model: Meta Llama2 7B float.32\n",
    "2. Convert Model: safetensors float.16"
   ]
  },
  {
   "cell_type": "code",
   "execution_count": null,
   "id": "845eaba7",
   "metadata": {},
   "outputs": [],
   "source": [
    "%pip install safetensors"
   ]
  },
  {
   "cell_type": "code",
   "execution_count": null,
   "id": "407aea90",
   "metadata": {},
   "outputs": [],
   "source": [
    "import torch\n",
    "from transformers import AutoModel, AutoTokenizer\n",
    "import safetensors.torch as st"
   ]
  },
  {
   "cell_type": "code",
   "execution_count": null,
   "id": "8f9cfc21",
   "metadata": {},
   "outputs": [],
   "source": [
    "model_id = \"/data/bwllm/models/casllm-base-13b-hf\"\n",
    "\n",
    "model = AutoModel.from_pretrained(model_id)\n",
    "tokenizer = AutoTokenizer.from_pretrained(model_id)"
   ]
  },
  {
   "cell_type": "code",
   "execution_count": null,
   "id": "3e359189",
   "metadata": {},
   "outputs": [],
   "source": [
    "# 모델의 모든 파라미터의 데이터 타입 확인\n",
    "for name, param in model.named_parameters():\n",
    "    print(f\"{name} data type: {param.dtype}\")"
   ]
  },
  {
   "cell_type": "code",
   "execution_count": null,
   "id": "356e9ba4",
   "metadata": {},
   "outputs": [],
   "source": [
    "# 모델 크기를 float.32 에서 float.16으로 줄인다.\n",
    "model.half()"
   ]
  },
  {
   "cell_type": "code",
   "execution_count": null,
   "id": "a7cfd3f2",
   "metadata": {},
   "outputs": [],
   "source": [
    "# 모델의 모든 파라미터의 데이터 타입 확인\n",
    "for name, param in model.named_parameters():\n",
    "    print(f\"{name} data type: {param.dtype}\")"
   ]
  },
  {
   "cell_type": "code",
   "execution_count": null,
   "id": "5588493f",
   "metadata": {},
   "outputs": [],
   "source": [
    "# 변환된 state_dict를 SafeTensors 포맷으로 저장합니다.\n",
    "sf_model_dir = \"/data/bwllm/models/casllm-base-7b-sf\"\n",
    "\n",
    "model.save_pretrained(sf_model_dir, save_function=st.save)\n",
    "tokenizer.save_pretrained(sf_model_dir, save_function=st.save)"
   ]
  },
  {
   "cell_type": "markdown",
   "id": "7add4dc4",
   "metadata": {},
   "source": [
    "### 모든 작업 완료 : 100%"
   ]
  }
 ],
 "metadata": {
  "kernelspec": {
   "display_name": "llama",
   "language": "python",
   "name": "llama"
  },
  "language_info": {
   "codemirror_mode": {
    "name": "ipython",
    "version": 3
   },
   "file_extension": ".py",
   "mimetype": "text/x-python",
   "name": "python",
   "nbconvert_exporter": "python",
   "pygments_lexer": "ipython3",
   "version": "3.10.12"
  }
 },
 "nbformat": 4,
 "nbformat_minor": 5
}
